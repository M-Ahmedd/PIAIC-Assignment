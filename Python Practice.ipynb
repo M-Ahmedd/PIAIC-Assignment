{
 "cells": [
  {
   "cell_type": "code",
   "execution_count": 1,
   "metadata": {
    "collapsed": false
   },
   "outputs": [
    {
     "name": "stdout",
     "output_type": "stream",
     "text": [
      "A\n",
      "B\n",
      "C\n",
      "D\n",
      "E\n",
      "F\n",
      "G\n",
      "H\n",
      "I\n",
      "J\n",
      "K\n",
      "L\n",
      "M\n",
      "N\n",
      "O\n",
      "P\n",
      "Q\n",
      "R\n",
      "S\n",
      "T\n",
      "U\n",
      "V\n",
      "W\n",
      "X\n",
      "Y\n",
      "Z\n"
     ]
    }
   ],
   "source": [
    "for e in list(range(65,91)):\n",
    "    print(chr(e))"
   ]
  },
  {
   "cell_type": "code",
   "execution_count": 2,
   "metadata": {
    "collapsed": false
   },
   "outputs": [
    {
     "name": "stdout",
     "output_type": "stream",
     "text": [
      "[2, 4, 4, 6]\n"
     ]
    }
   ],
   "source": [
    "a=[]\n",
    "input_list = [1, 2, 3, 4, 4, 5, 6, 7, 7]\n",
    "for e in input_list:\n",
    "    if e % 2 == 0:\n",
    "        a.append(e)\n",
    "print(a)"
   ]
  },
  {
   "cell_type": "code",
   "execution_count": 28,
   "metadata": {
    "collapsed": false
   },
   "outputs": [
    {
     "data": {
      "text/plain": [
       "['A',\n",
       " 'B',\n",
       " 'C',\n",
       " 'D',\n",
       " 'E',\n",
       " 'F',\n",
       " 'G',\n",
       " 'H',\n",
       " 'I',\n",
       " 'J',\n",
       " 'K',\n",
       " 'L',\n",
       " 'M',\n",
       " 'N',\n",
       " 'O',\n",
       " 'P',\n",
       " 'Q',\n",
       " 'R',\n",
       " 'S',\n",
       " 'T',\n",
       " 'U',\n",
       " 'V',\n",
       " 'W',\n",
       " 'X',\n",
       " 'Y',\n",
       " 'Z']"
      ]
     },
     "execution_count": 28,
     "metadata": {},
     "output_type": "execute_result"
    }
   ],
   "source": [
    "alpha_letter = list(map(chr,range(65,91)))\n",
    "alpha_letter"
   ]
  },
  {
   "cell_type": "code",
   "execution_count": 23,
   "metadata": {
    "collapsed": false
   },
   "outputs": [
    {
     "name": "stdout",
     "output_type": "stream",
     "text": [
      "[2, 4, 4, 6]\n",
      "Squares of the input list are: [1, 4, 9, 16, 16, 25, 36, 49, 49]\n"
     ]
    }
   ],
   "source": [
    "# By using List COmprehension\n",
    "b = [i for i in input_list if i % 2 == 0]\n",
    "print(b)\n",
    "\n",
    "c = [x**2 for x in input_list ]\n",
    "print(\"Squares of the input list are:\", c)\n",
    "\n"
   ]
  },
  {
   "cell_type": "code",
   "execution_count": null,
   "metadata": {
    "collapsed": true
   },
   "outputs": [],
   "source": []
  },
  {
   "cell_type": "code",
   "execution_count": 33,
   "metadata": {
    "collapsed": false
   },
   "outputs": [
    {
     "name": "stdout",
     "output_type": "stream",
     "text": [
      "2 * 1 = 2\n",
      "2 * 2 = 4\n",
      "2 * 3 = 6\n",
      "2 * 4 = 8\n",
      "2 * 5 = 10\n",
      "2 * 6 = 12\n",
      "2 * 7 = 14\n",
      "2 * 8 = 16\n",
      "2 * 9 = 18\n",
      "2 * 10 = 20\n",
      "3 * 1 = 3\n",
      "3 * 2 = 6\n",
      "3 * 3 = 9\n",
      "3 * 4 = 12\n",
      "3 * 5 = 15\n",
      "3 * 6 = 18\n",
      "3 * 7 = 21\n",
      "3 * 8 = 24\n",
      "3 * 9 = 27\n",
      "3 * 10 = 30\n"
     ]
    }
   ],
   "source": [
    "# 2,3 Mathematic Table in Python\n",
    "for first in range(2,4):\n",
    "    for second in range(1,11):\n",
    "        print(f\"{first} * {second} = {first * second}\")"
   ]
  },
  {
   "cell_type": "code",
   "execution_count": 35,
   "metadata": {
    "collapsed": false
   },
   "outputs": [
    {
     "data": {
      "text/plain": [
       "[27, 18, 46, 51, 99, 70, 48, 49, 6]"
      ]
     },
     "execution_count": 35,
     "metadata": {},
     "output_type": "execute_result"
    }
   ],
   "source": [
    "l = [22, 13, 45, 50, 98, 69, 43, 44, 1] # Add plus 1 if above 45 else add plus 5 using List Comprehension\n",
    "\n",
    "c = [a+1 if a >= 45 else a + 5 for a in l]\n",
    "c\n"
   ]
  },
  {
   "cell_type": "code",
   "execution_count": 50,
   "metadata": {
    "collapsed": false
   },
   "outputs": [
    {
     "name": "stdout",
     "output_type": "stream",
     "text": [
      "3*2=6\n"
     ]
    }
   ],
   "source": [
    "a = 3\n",
    "b = 2\n",
    "print(\"{}*{}={}\".format(a,b,a*b))\n",
    "\n",
    "c = [\"{} * {} = {}\" for i in range(2,11) ]"
   ]
  },
  {
   "cell_type": "code",
   "execution_count": 8,
   "metadata": {
    "collapsed": false
   },
   "outputs": [
    {
     "name": "stdout",
     "output_type": "stream",
     "text": [
      "['BlueRay Zzz', 'BlueRay Burp', 'BlueRay Dogbone', 'BlueRay Droop', 'Upchuck Zzz', 'Upchuck Burp', 'Upchuck Dogbone', 'Upchuck Droop', 'Lojack Zzz', 'Lojack Burp', 'Lojack Dogbone', 'Lojack Droop', 'Gizmo Zzz', 'Gizmo Burp', 'Gizmo Dogbone', 'Gizmo Droop', 'Do-Rag Zzz', 'Do-Rag Burp', 'Do-Rag Dogbone', 'Do-Rag Droop']\n"
     ]
    }
   ],
   "source": [
    "a=[]\n",
    "first_names = [\"BlueRay \", \"Upchuck \", \"Lojack \",\n",
    "\"Gizmo \", \"Do-Rag \"]\n",
    "last_names = [\"Zzz\", \"Burp\", \"Dogbone\", \"Droop\"]\n",
    "for i in first_names:\n",
    "    for j in last_names:\n",
    "        a.append(i+j)\n",
    "print(a)\n"
   ]
  },
  {
   "cell_type": "code",
   "execution_count": 11,
   "metadata": {
    "collapsed": false
   },
   "outputs": [
    {
     "name": "stdout",
     "output_type": "stream",
     "text": [
      "Please enter your salary: 545\n",
      "Your annual income is  6540\n"
     ]
    }
   ],
   "source": [
    "income = input(\"Please enter your salary: \")\n",
    "year_sal = int(income)*12\n",
    "print(\"Your annual income is \",year_sal)"
   ]
  },
  {
   "cell_type": "code",
   "execution_count": 17,
   "metadata": {
    "collapsed": false
   },
   "outputs": [
    {
     "name": "stdout",
     "output_type": "stream",
     "text": [
      "Please enter your city as\n"
     ]
    }
   ],
   "source": [
    "cleanest_cities = [\"Cheyenne\", \"cheyenne\", \"Santa Fe\", \"santa fe\", \"Tucson\", \"tucson\", \"Great Falls\", \"great falls\", \"Honolulu\", \"honolulu\"]\n",
    "your_city = input(\"Please enter your city \")\n",
    "b = your_city.lower()\n",
    "\n",
    "for i in cleanest_cities:\n",
    "    if b == i:\n",
    "        print(i, \" found in our country\")"
   ]
  },
  {
   "cell_type": "code",
   "execution_count": 19,
   "metadata": {
    "collapsed": false
   },
   "outputs": [
    {
     "data": {
      "text/plain": [
       "'Draco'"
      ]
     },
     "execution_count": 19,
     "metadata": {},
     "output_type": "execute_result"
    }
   ],
   "source": [
    "my_cats = [\"Draco\", \"Bellatrix\", \"Voldemort\"]\n",
    "my_cats[0]"
   ]
  },
  {
   "cell_type": "code",
   "execution_count": 29,
   "metadata": {
    "collapsed": false
   },
   "outputs": [
    {
     "data": {
      "text/plain": [
       "{'first name': 'Muhammad Ahmed',\n",
       " 'last name': 'Elliott',\n",
       " 'address': '4803 Wellesley St.'}"
      ]
     },
     "execution_count": 29,
     "metadata": {},
     "output_type": "execute_result"
    }
   ],
   "source": [
    "customer_29876 = {\"first name\": \"David\", \"last name\": \"Elliott\", \"address\": \"4803 Wellesley St.\"}\n",
    "jobs_to_do = [\"Email\",\"texting\",'Call']\n",
    "\n",
    "customer_29876[\"first name\"] = \"Muhammad Ahmed\"\n",
    "customer_29876\n",
    "\n",
    "\n"
   ]
  },
  {
   "cell_type": "code",
   "execution_count": 33,
   "metadata": {
    "collapsed": false
   },
   "outputs": [
    {
     "data": {
      "text/plain": [
       "{'a dozen': 12}"
      ]
     },
     "execution_count": 33,
     "metadata": {},
     "output_type": "execute_result"
    }
   ],
   "source": [
    "things_to_remember = {}\n",
    "things_to_remember[0] = \"The lowest number\"\n",
    "things_to_remember[\"a dozen\"] = 12\n",
    "del things_to_remember[0]\n",
    "things_to_remember"
   ]
  },
  {
   "cell_type": "code",
   "execution_count": 38,
   "metadata": {
    "collapsed": false
   },
   "outputs": [
    {
     "name": "stdout",
     "output_type": "stream",
     "text": [
      "The customer first name is David\n",
      "The customer last name is Elliott\n",
      "The customer address is 4803 Wellesley St.\n"
     ]
    }
   ],
   "source": [
    "customer_29876 = {\n",
    "\"first name\": \"David\",\n",
    "\"last name\": \"Elliott\",\n",
    "\"address\": \"4803 Wellesley St.\",\n",
    "}\n",
    "for i,j in customer_29876.items():\n",
    "    print(\"The customer \" + i + \" is \" + j)"
   ]
  },
  {
   "cell_type": "code",
   "execution_count": 34,
   "metadata": {
    "collapsed": false
   },
   "outputs": [
    {
     "data": {
      "text/plain": [
       "[{'customer id': 0,\n",
       "  'first name': 'John',\n",
       "  'last name': 'Ogden',\n",
       "  'address': '301 Arbor Rd.'},\n",
       " {'customer id': 1,\n",
       "  'first name': 'Ann',\n",
       "  'last name': 'Sattermyer',\n",
       "  'address': 'PO Box 1145'},\n",
       " {'customer id': 2,\n",
       "  'first name': 'Jill',\n",
       "  'last name': 'Somers',\n",
       "  'address': '3 Main St.'}]"
      ]
     },
     "execution_count": 34,
     "metadata": {},
     "output_type": "execute_result"
    }
   ],
   "source": [
    "customers = [\n",
    "   {\n",
    "     \"customer id\": 0,\n",
    "     \"first name\":\"John\",\n",
    "     \"last name\": \"Ogden\",\"address\": \"301 Arbor Rd.\",\n",
    "   },\n",
    "   {\n",
    "     \"customer id\": 1,\n",
    "    \"first name\":\"Ann\",\n",
    "    \"last name\": \"Sattermyer\",\n",
    "    \"address\": \"PO Box 1145\",\n",
    "  },\n",
    "  {\n",
    "    \"customer id\": 2,\n",
    "    \"first name\":\"Jill\",\n",
    "    \"last name\": \"Somers\",\n",
    "    \"address\": \"3 Main St.\",\n",
    "  },\n",
    "]\n",
    "customers"
   ]
  },
  {
   "cell_type": "code",
   "execution_count": 35,
   "metadata": {
    "collapsed": false
   },
   "outputs": [
    {
     "data": {
      "text/plain": [
       "[{'customer id': 0,\n",
       "  'first name': 'John',\n",
       "  'last name': 'Ogden',\n",
       "  'address': '301 Arbor Rd.'},\n",
       " {'customer id': 1,\n",
       "  'first name': 'Ann',\n",
       "  'last name': 'Sattermyer',\n",
       "  'address': 'PO Box 1145'},\n",
       " {'customer id': 2,\n",
       "  'first name': 'Jill',\n",
       "  'last name': 'Somers',\n",
       "  'address': '3 Main St.'},\n",
       " {'customer id': 5,\n",
       "  'first name': 'Waqas Shaikh',\n",
       "  'last name': 'Pak',\n",
       "  'address': 'Ghaxi Nagar'}]"
      ]
     },
     "execution_count": 35,
     "metadata": {},
     "output_type": "execute_result"
    }
   ],
   "source": [
    "new_dictionary = {\n",
    "\"customer id\":5,\n",
    "\"first name\": \"Waqas Shaikh\",\n",
    "\"last name\": \"Pak\",\n",
    "\"address\": \"Ghaxi Nagar\",\n",
    "}   \n",
    "\n",
    "customers.append(new_dictionary)\n",
    "customers"
   ]
  },
  {
   "cell_type": "code",
   "execution_count": 3,
   "metadata": {
    "collapsed": false
   },
   "outputs": [
    {
     "data": {
      "text/plain": [
       "{'first name': 'David',\n",
       " 'last name': 'Elliott',\n",
       " 'address': '4803 Wellesley St.',\n",
       " 'Discount': ['loyalty Disc', 'Volume', 'Standar']}"
      ]
     },
     "execution_count": 3,
     "metadata": {},
     "output_type": "execute_result"
    }
   ],
   "source": [
    "customer_29876 ={'first name': 'David',\n",
    " 'last name': 'Elliott',\n",
    " 'address': '4803 Wellesley St.',\n",
    " \"Discount\": [\"loyalty Disc\",\"Volume\",\"Standar\"]            }\n",
    "customer_29876 "
   ]
  },
  {
   "cell_type": "code",
   "execution_count": 6,
   "metadata": {
    "collapsed": false
   },
   "outputs": [],
   "source": [
    "if \"brother_inlaw\" in customer_29876[\"Discount\"]:\n",
    "    discount_amount = .30\n",
    "elif \"loyalty Disc\" in customer_29876[\"Discount\"]:\n",
    "    discount_amount = .50\n",
    "elif \"Volume\" in customer_29876[\"Discount\"]:\n",
    "     discount_amount = .70"
   ]
  },
  {
   "cell_type": "code",
   "execution_count": 20,
   "metadata": {
    "collapsed": false
   },
   "outputs": [
    {
     "name": "stdout",
     "output_type": "stream",
     "text": [
      "fruits\n"
     ]
    }
   ],
   "source": [
    "#Check an item in a value pair of list and return its key value\n",
    "mydict= {'fruits': ['banana', 'apple', 'orange'],\n",
    "         'vegetables': ['pepper', 'carrot'], \n",
    "         'cheese': ['swiss', 'cheddar', 'brie']}\n",
    "j = \"banana\"\n",
    "for i in mydict.keys():\n",
    "    if j in mydict[i]:\n",
    "     print(i)"
   ]
  },
  {
   "cell_type": "code",
   "execution_count": 25,
   "metadata": {
    "collapsed": false
   },
   "outputs": [
    {
     "name": "stdout",
     "output_type": "stream",
     "text": [
      "Please enter an item: banana\n",
      "fruits\n",
      "Not found any key of this item\n",
      "Not found any key of this item\n"
     ]
    }
   ],
   "source": [
    "mydict= {'fruits': ['banana', 'apple', 'orange'],\n",
    "         'vegetables': ['pepper', 'carrot'], \n",
    "         'cheese': ['swiss', 'cheddar', 'brie']}\n",
    "item_checked = input('Please enter an item: ')\n",
    "item_check = item_checked.lower()\n",
    "for i in mydict.keys():\n",
    "    if item_check in mydict[i]:\n",
    "        print(i)\n",
    "    else:\n",
    "        print(\"Not found any key of this item\")"
   ]
  },
  {
   "cell_type": "code",
   "execution_count": 50,
   "metadata": {
    "collapsed": false
   },
   "outputs": [
    {
     "name": "stdout",
     "output_type": "stream",
     "text": [
      "{0: {'first name': 'John', 'last name': 'Ogden', 'address': '301 Arbor Rd.'}, 1: {'first name': 'Ann', 'last name': 'Sattermyer', 'address': 'PO Box 1145'}, 2: {'first name': 'Jill', 'last name': 'Somers', 'address': '3 Main St.'}, 5: {'first name': 'Waqas Shaikh', 'last name': 'Pak', 'address': 'Ghaxi Nagar'}}\n",
      "Jill\n"
     ]
    }
   ],
   "source": [
    "customer = { 0:{\n",
    "  'first name': 'John',\n",
    "  'last name': 'Ogden',\n",
    "  'address': '301 Arbor Rd.'},\n",
    " 1:{\n",
    "  'first name': 'Ann',\n",
    "  'last name': 'Sattermyer',\n",
    "  'address': 'PO Box 1145'},\n",
    "  2:{\n",
    "  'first name': 'Jill',\n",
    "  'last name': 'Somers',\n",
    "  'address': '3 Main St.'},\n",
    "  5:{\n",
    "  'first name': 'Waqas Shaikh',\n",
    "  'last name': 'Pak',\n",
    "  'address': 'Ghaxi Nagar'}}\n",
    "print(customer )\n",
    "print(customer[2][\"first name\"])"
   ]
  },
  {
   "cell_type": "code",
   "execution_count": 56,
   "metadata": {
    "collapsed": false
   },
   "outputs": [
    {
     "data": {
      "text/plain": [
       "{'Name': 'Abdul Basit', 'Age': 26, 'Education': 'Bachelor'}"
      ]
     },
     "execution_count": 56,
     "metadata": {},
     "output_type": "execute_result"
    }
   ],
   "source": [
    "# Merged two dict\n",
    "\n",
    "first = {\"Name\":\"Muhammad Ahmed\" , \"Age\":25 , \"Education\":\"Bachelor\"}\n",
    "second = {\"Name\":\"Abdul Basit\" , \"Age\":26 , \"Education\":\"Bachelor\"}\n",
    "merge = first.update(second)\n",
    "first"
   ]
  },
  {
   "cell_type": "code",
   "execution_count": 65,
   "metadata": {
    "collapsed": false
   },
   "outputs": [
    {
     "name": "stdout",
     "output_type": "stream",
     "text": [
      "6\n",
      "7\n",
      "7\n"
     ]
    }
   ],
   "source": [
    "f = 2\n",
    "l = 4\n",
    "total = f+l\n",
    "print(total)\n",
    "\n",
    "# COnverting above into function\n",
    "\n",
    "def addition():\n",
    "    first = 5\n",
    "    second = 2\n",
    "    total = first + second\n",
    "    print(total)\n",
    "\n",
    "addition()\n",
    "\n",
    "addition()\n",
    "\n",
    "\n",
    "\n"
   ]
  },
  {
   "cell_type": "code",
   "execution_count": 77,
   "metadata": {
    "collapsed": false
   },
   "outputs": [
    {
     "name": "stdout",
     "output_type": "stream",
     "text": [
      "the first two semifinalist are: Paskitan \n",
      " India\n"
     ]
    }
   ],
   "source": [
    "def semifinalist(first_team=\"Paskitan\",second_team=\"India\"):\n",
    "    print(\"the first two semifinalist are: \" + first_team + \" \\n \"+ second_team)\n",
    "semifinalist()"
   ]
  },
  {
   "cell_type": "code",
   "execution_count": 88,
   "metadata": {
    "collapsed": false
   },
   "outputs": [
    {
     "name": "stdout",
     "output_type": "stream",
     "text": [
      "My name is Asif and age is 23\n"
     ]
    }
   ],
   "source": [
    "def cl(name,age=23):\n",
    "    print(\"My name is \"+ name + \" and age is \" + str(age))\n",
    "cl(\"Asif\")"
   ]
  },
  {
   "cell_type": "code",
   "execution_count": 4,
   "metadata": {
    "collapsed": false
   },
   "outputs": [
    {
     "name": "stdout",
     "output_type": "stream",
     "text": [
      "ahmed Khan\n"
     ]
    }
   ],
   "source": [
    "# function\n",
    "def name(first,second):\n",
    "    full_name = first + \" \" + second\n",
    "    return print(full_name)\n",
    "name(\"ahmed\",\"Khan\")"
   ]
  },
  {
   "cell_type": "code",
   "execution_count": 8,
   "metadata": {
    "collapsed": false
   },
   "outputs": [
    {
     "name": "stdout",
     "output_type": "stream",
     "text": [
      "Muhammad Khaan Ahmed\n"
     ]
    }
   ],
   "source": [
    "#Check if middle  name exist in argument or not\n",
    "def name(first,second,middle=\"\"):\n",
    "    if middle:\n",
    "        full_name = first + \" \" + middle + \" \" + second\n",
    "        return full_name\n",
    "    else:\n",
    "        full_name = first + \" \" + second\n",
    "        return full_name\n",
    "        \n",
    "a = name(\"Muhammad\",\"Ahmed\",\"Khaan\")\n",
    "print(a)"
   ]
  }
 ],
 "metadata": {
  "kernelspec": {
   "display_name": "Python 3",
   "language": "python",
   "name": "python3"
  },
  "language_info": {
   "codemirror_mode": {
    "name": "ipython",
    "version": 3
   },
   "file_extension": ".py",
   "mimetype": "text/x-python",
   "name": "python",
   "nbconvert_exporter": "python",
   "pygments_lexer": "ipython3",
   "version": "3.6.0"
  }
 },
 "nbformat": 4,
 "nbformat_minor": 2
}
