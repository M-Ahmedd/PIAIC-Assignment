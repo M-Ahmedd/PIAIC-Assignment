{
 "cells": [
  {
   "cell_type": "code",
   "execution_count": 6,
   "metadata": {
    "collapsed": false
   },
   "outputs": [
    {
     "name": "stdout",
     "output_type": "stream",
     "text": [
      "Tuples has only two methods: \n",
      "Count\n",
      "Index\n"
     ]
    }
   ],
   "source": [
    "print(\"Tuples has only two methods: \\nCount\\nIndex\")"
   ]
  },
  {
   "cell_type": "code",
   "execution_count": 19,
   "metadata": {
    "collapsed": false
   },
   "outputs": [
    {
     "name": "stdout",
     "output_type": "stream",
     "text": [
      "Ali has occurr in above tuple: 2 times.!!\n"
     ]
    }
   ],
   "source": [
    "a = (\"Ahmed\",\"Ali\",\"Wahab\",\"Rehan\",\"Kashif\",\"Danish\",\"Ali\",\"Wahab\")\n",
    "print(\"Ali has occurr in above tuple: \"+ str(a.count(\"Ali\")) + \" times.!!\"\n",
    "     )"
   ]
  },
  {
   "cell_type": "code",
   "execution_count": 22,
   "metadata": {
    "collapsed": false
   },
   "outputs": [
    {
     "name": "stdout",
     "output_type": "stream",
     "text": [
      "3\n"
     ]
    }
   ],
   "source": [
    "b = a.index(\"Rehan\")\n",
    "print(b)"
   ]
  }
 ],
 "metadata": {
  "kernelspec": {
   "display_name": "Python 3",
   "language": "python",
   "name": "python3"
  },
  "language_info": {
   "codemirror_mode": {
    "name": "ipython",
    "version": 3
   },
   "file_extension": ".py",
   "mimetype": "text/x-python",
   "name": "python",
   "nbconvert_exporter": "python",
   "pygments_lexer": "ipython3",
   "version": "3.6.0"
  }
 },
 "nbformat": 4,
 "nbformat_minor": 2
}
