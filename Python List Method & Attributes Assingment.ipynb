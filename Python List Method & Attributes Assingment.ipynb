{
 "cells": [
  {
   "cell_type": "code",
   "execution_count": 7,
   "metadata": {
    "collapsed": false
   },
   "outputs": [
    {
     "data": {
      "text/plain": [
       "'Muhammad ahmed'"
      ]
     },
     "execution_count": 7,
     "metadata": {},
     "output_type": "execute_result"
    }
   ],
   "source": [
    "a=\"Muhammad Ahmed\"\n",
    "a.capitalize()\n",
    "# Make first letter Capital"
   ]
  },
  {
   "cell_type": "code",
   "execution_count": 9,
   "metadata": {
    "collapsed": false
   },
   "outputs": [
    {
     "data": {
      "text/plain": [
       "'hello all, welcome to pakistan'"
      ]
     },
     "execution_count": 9,
     "metadata": {},
     "output_type": "execute_result"
    }
   ],
   "source": [
    "a = \"Hello all, Welcome to Pakistan\"\n",
    "a.casefold()\n",
    "#COnvert all in Small Letters\n"
   ]
  },
  {
   "cell_type": "code",
   "execution_count": 18,
   "metadata": {
    "collapsed": false
   },
   "outputs": [
    {
     "name": "stdout",
     "output_type": "stream",
     "text": [
      "                     Pakistan                     \n",
      "Pakistan\n"
     ]
    }
   ],
   "source": [
    "a= \"Pakistan\"\n",
    "print(a.center(50))\n",
    "print(a.center(-10)\n",
    "     )\n",
    "\n",
    "#Allign text using specified Character\n"
   ]
  },
  {
   "cell_type": "code",
   "execution_count": 37,
   "metadata": {
    "collapsed": false
   },
   "outputs": [
    {
     "name": "stdout",
     "output_type": "stream",
     "text": [
      "3\n",
      "\n",
      "The word Cricket Store in variable c is occuring 5 times!!!\n",
      "\n",
      "I have started to count learning in variable a, I start with position 30 and end with 60\n",
      "1\n"
     ]
    }
   ],
   "source": [
    "a = \"I am learning Python\"\n",
    "a.count(\"learning\")\n",
    "\n",
    "a= \"I am learning Python and Soon will be learning Machine learning\"\n",
    "print(a.count(\"learning\"))\n",
    "\n",
    "# return the count of Specific Characters\n",
    "\n",
    "b = \"Cricket \"\n",
    "c = b*5\n",
    "print(\"\\nThe word Cricket Store in variable c is occuring \" + str(c.count(\"Cricket\")) + \" times!!!\")\n",
    "\n",
    "print(\"\\nI have started to count learning in variable a, I start with position 30 and end with 60\")\n",
    "print(a.count(\"learning\",30,60))"
   ]
  },
  {
   "cell_type": "code",
   "execution_count": 43,
   "metadata": {
    "collapsed": false
   },
   "outputs": [
    {
     "name": "stdout",
     "output_type": "stream",
     "text": [
      "My name is b'\\xc3\\xa5hmed'\n"
     ]
    }
   ],
   "source": [
    "a = \"åhmed\"\n",
    "print (\"My name is \" + str(a.encode()))\n",
    "\n"
   ]
  },
  {
   "cell_type": "code",
   "execution_count": 7,
   "metadata": {
    "collapsed": false
   },
   "outputs": [
    {
     "name": "stdout",
     "output_type": "stream",
     "text": [
      "True\n"
     ]
    }
   ],
   "source": [
    "a = \"My country name is Pakistan!\"\n",
    "b = a.endswith(\"!\")\n",
    "print(b)\n",
    "\n",
    "# It return true if the string end with specified value"
   ]
  },
  {
   "cell_type": "code",
   "execution_count": 13,
   "metadata": {
    "collapsed": false
   },
   "outputs": [
    {
     "name": "stdout",
     "output_type": "stream",
     "text": [
      "20\n",
      "20\n",
      "-1\n"
     ]
    },
    {
     "ename": "ValueError",
     "evalue": "substring not found",
     "output_type": "error",
     "traceback": [
      "\u001b[0;31m---------------------------------------------------------------------------\u001b[0m",
      "\u001b[0;31mValueError\u001b[0m                                Traceback (most recent call last)",
      "\u001b[0;32m<ipython-input-13-1d9fe1756ddd>\u001b[0m in \u001b[0;36m<module>\u001b[0;34m()\u001b[0m\n\u001b[1;32m      9\u001b[0m \u001b[0mprint\u001b[0m\u001b[1;33m(\u001b[0m\u001b[0mb\u001b[0m\u001b[1;33m)\u001b[0m\u001b[1;33m\u001b[0m\u001b[0m\n\u001b[1;32m     10\u001b[0m \u001b[1;33m\u001b[0m\u001b[0m\n\u001b[0;32m---> 11\u001b[0;31m \u001b[0mb\u001b[0m \u001b[1;33m=\u001b[0m \u001b[0ma\u001b[0m\u001b[1;33m.\u001b[0m\u001b[0mindex\u001b[0m\u001b[1;33m(\u001b[0m\u001b[1;34m\"Zohaib\"\u001b[0m\u001b[1;33m)\u001b[0m\u001b[1;33m\u001b[0m\u001b[0m\n\u001b[0m\u001b[1;32m     12\u001b[0m \u001b[0mprint\u001b[0m\u001b[1;33m(\u001b[0m\u001b[0mb\u001b[0m\u001b[1;33m)\u001b[0m\u001b[1;33m\u001b[0m\u001b[0m\n\u001b[1;32m     13\u001b[0m \u001b[1;33m\u001b[0m\u001b[0m\n",
      "\u001b[0;31mValueError\u001b[0m: substring not found"
     ]
    }
   ],
   "source": [
    "a = \"My name is Muhammad Ahmed\"\n",
    "b = a.find(\"Ahmed\")\n",
    "print(b)\n",
    "\n",
    "b = a.index(\"Ahmed\")\n",
    "print(b)\n",
    "\n",
    "b = a.find(\"zohaib\")\n",
    "print(b)\n",
    "\n",
    "b = a.index(\"Zohaib\")\n",
    "print(b)\n",
    "\n"
   ]
  },
  {
   "cell_type": "code",
   "execution_count": 10,
   "metadata": {
    "collapsed": false
   },
   "outputs": [
    {
     "data": {
      "text/plain": [
       "False"
      ]
     },
     "execution_count": 10,
     "metadata": {},
     "output_type": "execute_result"
    }
   ],
   "source": [
    "a = \"Ahmed\"\n",
    "b = a.isalpha()\n",
    "b\n",
    "\n",
    "# It returns true if all the elements are alphabet \n",
    "\n",
    "a = \"Cricket 2019\"\n",
    "b = a.isalpha()\n",
    "b\n",
    "\n",
    "a = \"1235646\"\n",
    "b = a.isalpha()\n",
    "b"
   ]
  },
  {
   "cell_type": "code",
   "execution_count": 14,
   "metadata": {
    "collapsed": false
   },
   "outputs": [
    {
     "name": "stdout",
     "output_type": "stream",
     "text": [
      "False\n"
     ]
    },
    {
     "data": {
      "text/plain": [
       "True"
      ]
     },
     "execution_count": 14,
     "metadata": {},
     "output_type": "execute_result"
    }
   ],
   "source": [
    "a = \"Cricket World Cup will Start on June 2019\"\n",
    "b = a.isalnum()\n",
    "print(b)\n",
    "\n",
    "a = \"Cricket2019\"\n",
    "b = a.isalnum()\n",
    "b\n",
    "\n",
    "# Return true if string is alphanumeric\n",
    "\n"
   ]
  },
  {
   "cell_type": "code",
   "execution_count": 21,
   "metadata": {
    "collapsed": false
   },
   "outputs": [
    {
     "name": "stdout",
     "output_type": "stream",
     "text": [
      "True\n",
      "False\n"
     ]
    }
   ],
   "source": [
    "a = \"23234454\"\n",
    "b = a.isdigit()\n",
    "print(b)\n",
    "\n",
    "a = \"Karachi is the city of Light\"\n",
    "b = a.isdigit()\n",
    "\n",
    "print(b)\n",
    "\n",
    "#returns true if all are digit\n",
    "\n"
   ]
  },
  {
   "cell_type": "code",
   "execution_count": 30,
   "metadata": {
    "collapsed": false
   },
   "outputs": [
    {
     "ename": "SyntaxError",
     "evalue": "invalid syntax (<ipython-input-30-46516e4088ba>, line 5)",
     "output_type": "error",
     "traceback": [
      "\u001b[0;36m  File \u001b[0;32m\"<ipython-input-30-46516e4088ba>\"\u001b[0;36m, line \u001b[0;32m5\u001b[0m\n\u001b[0;31m    returns true if all the element in unicode are decimal\u001b[0m\n\u001b[0m               ^\u001b[0m\n\u001b[0;31mSyntaxError\u001b[0m\u001b[0;31m:\u001b[0m invalid syntax\n"
     ]
    }
   ],
   "source": [
    "a = \"\\u01230\"\n",
    "b = a.isdecimal()\n",
    "b\n",
    "\n",
    "#returns true if all the element in unicode are decimal"
   ]
  },
  {
   "cell_type": "code",
   "execution_count": 38,
   "metadata": {
    "collapsed": false
   },
   "outputs": [
    {
     "name": "stdout",
     "output_type": "stream",
     "text": [
      "True\n"
     ]
    },
    {
     "data": {
      "text/plain": [
       "True"
      ]
     },
     "execution_count": 38,
     "metadata": {},
     "output_type": "execute_result"
    }
   ],
   "source": [
    "a = \"Pakistan\"\n",
    "b = a.isidentifier()\n",
    "print(b)\n",
    "\n",
    "a = \"Pakistan123\"\n",
    "b = a.isidentifier()\n",
    "# It check if string is a valid identifier\n",
    "b"
   ]
  },
  {
   "cell_type": "code",
   "execution_count": 42,
   "metadata": {
    "collapsed": false
   },
   "outputs": [
    {
     "name": "stdout",
     "output_type": "stream",
     "text": [
      "False\n"
     ]
    },
    {
     "data": {
      "text/plain": [
       "True"
      ]
     },
     "execution_count": 42,
     "metadata": {},
     "output_type": "execute_result"
    }
   ],
   "source": [
    "a = \"Footbal\"\n",
    "b = a.islower()\n",
    "print(b)\n",
    "\n",
    "\n",
    "a = \"footbal\"\n",
    "b = a.islower()\n",
    "b"
   ]
  },
  {
   "cell_type": "code",
   "execution_count": 46,
   "metadata": {
    "collapsed": false
   },
   "outputs": [
    {
     "data": {
      "text/plain": [
       "True"
      ]
     },
     "execution_count": 46,
     "metadata": {},
     "output_type": "execute_result"
    }
   ],
   "source": [
    "a = \"Hello are you all Pakistan$$\"\n",
    "b = a.isprintable()\n",
    "b\n",
    "\n",
    "# Returns true if is printable"
   ]
  },
  {
   "cell_type": "code",
   "execution_count": 50,
   "metadata": {
    "collapsed": false
   },
   "outputs": [
    {
     "name": "stdout",
     "output_type": "stream",
     "text": [
      "False\n",
      "True\n"
     ]
    }
   ],
   "source": [
    "a = \"Pakitan Zindabad\"\n",
    "b = a.isspace()\n",
    "print(b)\n",
    "\n",
    "a = \" \"\n",
    "b = a.isspace()\n",
    "print(b)\n",
    "\n",
    "# returns true if all the string contain spaces"
   ]
  },
  {
   "cell_type": "code",
   "execution_count": 53,
   "metadata": {
    "collapsed": false
   },
   "outputs": [
    {
     "name": "stdout",
     "output_type": "stream",
     "text": [
      "True\n",
      "False\n"
     ]
    }
   ],
   "source": [
    "a = \"Pakitan Zindabad\"\n",
    "b = a.istitle()\n",
    "print(b)\n",
    "\n",
    "a = \"pakitan Zindabad\"\n",
    "b = a.istitle()\n",
    "print(b)"
   ]
  },
  {
   "cell_type": "code",
   "execution_count": 56,
   "metadata": {
    "collapsed": false
   },
   "outputs": [
    {
     "name": "stdout",
     "output_type": "stream",
     "text": [
      "True\n",
      "False\n"
     ]
    }
   ],
   "source": [
    "a = \"WORLD CUP\"\n",
    "b = a.isupper()\n",
    "print(b)\n",
    "\n",
    "a = \"world CUP\"\n",
    "b = a.isupper()\n",
    "print(b)"
   ]
  },
  {
   "cell_type": "code",
   "execution_count": 67,
   "metadata": {
    "collapsed": false
   },
   "outputs": [
    {
     "name": "stdout",
     "output_type": "stream",
     "text": [
      "Faisal / Ali / Wahab / Rehan\n",
      "PIAIC ***** SAYLANI\n"
     ]
    }
   ],
   "source": [
    "my_friends = (\"Faisal\",\"Ali\",\"Wahab\",\"Rehan\")\n",
    "a =\" / \".join(my_friends)\n",
    "print(a)\n",
    "\n",
    "#join all the items in a string with a specific separato\n",
    "\n",
    "Prg = (\"PIAIC\",\"SAYLANI\")\n",
    "a = \" ***** \".join(Prg)\n",
    "print(a)"
   ]
  },
  {
   "cell_type": "code",
   "execution_count": 3,
   "metadata": {
    "collapsed": false
   },
   "outputs": [
    {
     "name": "stdout",
     "output_type": "stream",
     "text": [
      " I am learning  Artificial Intelligence                  now a days\n"
     ]
    }
   ],
   "source": [
    "a = \"Artificial Intelligence\"\n",
    "b = a.ljust(40)\n",
    "print(\" I am learning \", b + \" now a days\")"
   ]
  },
  {
   "cell_type": "code",
   "execution_count": 5,
   "metadata": {
    "collapsed": false
   },
   "outputs": [
    {
     "data": {
      "text/plain": [
       "'banana'"
      ]
     },
     "execution_count": 5,
     "metadata": {},
     "output_type": "execute_result"
    }
   ],
   "source": [
    "txt = \"     banana     \"\n",
    "a = txt.strip()\n",
    "\n",
    "a"
   ]
  },
  {
   "cell_type": "code",
   "execution_count": 7,
   "metadata": {
    "collapsed": false
   },
   "outputs": [
    {
     "data": {
      "text/plain": [
       "'     banana'"
      ]
     },
     "execution_count": 7,
     "metadata": {},
     "output_type": "execute_result"
    }
   ],
   "source": [
    "txt = \"     banana\"\n",
    "txt.lstrip()\n",
    "txt"
   ]
  },
  {
   "cell_type": "code",
   "execution_count": 17,
   "metadata": {
    "collapsed": false
   },
   "outputs": [
    {
     "name": "stdout",
     "output_type": "stream",
     "text": [
      "('Welcome to ', 'Karachi', ' As we all know that Karachi is the city of light')\n",
      "('I will play ', 'cricket', ' on sunday')\n",
      "('I will play cricket on sunday', '', '')\n"
     ]
    }
   ],
   "source": [
    "# it splits the string into a tuple containing three elements\n",
    "a = \"Welcome to Karachi As we all know that Karachi is the city of light\"\n",
    "b = a.partition(\"Karachi\")\n",
    "print(b)\n",
    "\n",
    "txt = \"I will play cricket on sunday\"\n",
    "\n",
    "x = txt.partition(\"cricket\")\n",
    "\n",
    "print(x)\n",
    "\n",
    "\n",
    "x = txt.partition(\"Monday\")\n",
    "\n",
    "print(x)\n"
   ]
  },
  {
   "cell_type": "code",
   "execution_count": 30,
   "metadata": {
    "collapsed": false
   },
   "outputs": [
    {
     "name": "stdout",
     "output_type": "stream",
     "text": [
      "Pakistan has won the ODI world cup !!\n",
      "three one was a race horse, two two was one too.\n"
     ]
    }
   ],
   "source": [
    "# it replaces the strind\n",
    "a = \"Pakistan has won the T2o world cup !!\"\n",
    "b = a.replace(\"T2o\",\"ODI\")\n",
    "print(b)\n",
    "\n",
    "txt = \"one one was a race horse, two two was one too.\"\n",
    "c = txt.replace(\"one\",\"three\",1)\n",
    "print(c)"
   ]
  },
  {
   "cell_type": "code",
   "execution_count": 39,
   "metadata": {
    "collapsed": false
   },
   "outputs": [
    {
     "name": "stdout",
     "output_type": "stream",
     "text": [
      "51\n",
      "8\n",
      "Index func return position 51\n",
      "None\n"
     ]
    }
   ],
   "source": [
    "# it finds the last occurrence of the specified value.\n",
    "\n",
    "txt = \"My name is Ahmed, and my friend Ahmed also name is Ahmed\"\n",
    "b = txt.rfind(\"Ahmed\")\n",
    "\n",
    "print(b)\n",
    "\n",
    "txt = \"Hello, welcome to my world.\"\n",
    "\n",
    "x = txt.rfind(\"e\", 5, 10)\n",
    "\n",
    "print(x)\n",
    "\n",
    "z = \"My name is Ahmed, and my friend Ahmed also name is Ahmed\"\n",
    "c = z.rindex(\"Ahmed\")\n",
    "d = print(\"Index func return position \" + str(c))\n",
    "print(d)"
   ]
  },
  {
   "cell_type": "code",
   "execution_count": 46,
   "metadata": {
    "collapsed": false
   },
   "outputs": [
    {
     "name": "stdout",
     "output_type": "stream",
     "text": [
      "                                  Pakistan  Here is the country\n",
      "\n",
      "       Pakistan  Here is some changes\n"
     ]
    }
   ],
   "source": [
    "a = \"Pakistan\"\n",
    "b = a.rjust(42)\n",
    "print(b,\" Here is the country\")\n",
    "\n",
    "c = a.rjust(15)\n",
    "print(\"\\n\" + c, \" Here is some changes\")"
   ]
  },
  {
   "cell_type": "code",
   "execution_count": 49,
   "metadata": {
    "collapsed": false
   },
   "outputs": [
    {
     "name": "stdout",
     "output_type": "stream",
     "text": [
      "('I can eat Zinger in 2 times a day, ', 'Zinger', ' is one of my favorite fast food')\n"
     ]
    }
   ],
   "source": [
    "txt = \"I can eat Zinger in 2 times a day, Zinger is one of my favorite fast food\"\n",
    "\n",
    "x = txt.rpartition(\"Zinger\")\n",
    "\n",
    "print(x)\n",
    "\n",
    "# everythong before the match\n",
    "# Match one\n",
    "# everything after the match"
   ]
  },
  {
   "cell_type": "code",
   "execution_count": 58,
   "metadata": {
    "collapsed": false
   },
   "outputs": [
    {
     "name": "stdout",
     "output_type": "stream",
     "text": [
      "['Welcome to', ' Karachi ']\n",
      "['Welcome to', ' Karachi ']\n",
      "['apple', 'banana', 'cherry']\n"
     ]
    }
   ],
   "source": [
    "a = \"Welcome to, Karachi \"\n",
    "b = a.split(\",\")\n",
    "print(b)\n",
    "\n",
    "c = a.rsplit(\",\")\n",
    "print(c)\n",
    "\n",
    "\n",
    "txt = \"apple, banana, cherry\"\n",
    "\n",
    "# setting the max parameter to 1, will return a list with 2 elements!\n",
    "x = txt.rsplit(\", \", )\n",
    "\n",
    "print(x)"
   ]
  },
  {
   "cell_type": "code",
   "execution_count": 62,
   "metadata": {
    "collapsed": false
   },
   "outputs": [
    {
     "name": "stdout",
     "output_type": "stream",
     "text": [
      "['I am learnig AI from PIAIC ', 'This course is designed for absolute begginers!! ']\n"
     ]
    }
   ],
   "source": [
    "a = \"I am learnig AI from PIAIC \\nThis course is designed for absolute begginers!! \"\n",
    "\n",
    "b = a.splitlines()\n",
    "print(b)"
   ]
  },
  {
   "cell_type": "code",
   "execution_count": 64,
   "metadata": {
    "collapsed": false
   },
   "outputs": [
    {
     "name": "stdout",
     "output_type": "stream",
     "text": [
      "True\n"
     ]
    }
   ],
   "source": [
    "txt = \"Hello, welcome to my world.\"\n",
    "\n",
    "x = txt.startswith(\"Hello\")\n",
    "\n",
    "print(x)"
   ]
  },
  {
   "cell_type": "code",
   "execution_count": 66,
   "metadata": {
    "collapsed": false
   },
   "outputs": [
    {
     "name": "stdout",
     "output_type": "stream",
     "text": [
      "mY NAME IS muhammad ahmed khan\n"
     ]
    }
   ],
   "source": [
    "name = \"My name is MUHAMMAD AHMED KHAN\"\n",
    "b = name.swapcase()\n",
    "print(b)"
   ]
  },
  {
   "cell_type": "code",
   "execution_count": 25,
   "metadata": {
    "collapsed": false
   },
   "outputs": [
    {
     "name": "stdout",
     "output_type": "stream",
     "text": [
      "00000ahmed\n",
      "000000000000340\n"
     ]
    }
   ],
   "source": [
    "a= \"ahmed\"\n",
    "b = a.zfill(10)\n",
    "print(b)\n",
    "\n",
    "c = \"340\"\n",
    "d = c.zfill(15)\n",
    "print(d)"
   ]
  },
  {
   "cell_type": "code",
   "execution_count": 26,
   "metadata": {
    "collapsed": false
   },
   "outputs": [
    {
     "name": "stdout",
     "output_type": "stream",
     "text": [
      "My name is Muhammad Ahmed, and i am learning AI \n"
     ]
    }
   ],
   "source": [
    "#format method\n",
    "print(\"My name is {}, and i am learning {} \".format(\"Muhammad Ahmed\",\"AI\"))\n",
    "\n"
   ]
  },
  {
   "cell_type": "code",
   "execution_count": 27,
   "metadata": {
    "collapsed": false
   },
   "outputs": [
    {
     "name": "stdout",
     "output_type": "stream",
     "text": [
      "__add__\n",
      "__class__\n",
      "__contains__\n",
      "__delattr__\n",
      "__dir__\n",
      "__doc__\n",
      "__eq__\n",
      "__format__\n",
      "__ge__\n",
      "__getattribute__\n",
      "__getitem__\n",
      "__getnewargs__\n",
      "__gt__\n",
      "__hash__\n",
      "__init__\n",
      "__init_subclass__\n",
      "__iter__\n",
      "__le__\n",
      "__len__\n",
      "__lt__\n",
      "__mod__\n",
      "__mul__\n",
      "__ne__\n",
      "__new__\n",
      "__reduce__\n",
      "__reduce_ex__\n",
      "__repr__\n",
      "__rmod__\n",
      "__rmul__\n",
      "__setattr__\n",
      "__sizeof__\n",
      "__str__\n",
      "__subclasshook__\n",
      "capitalize\n",
      "casefold\n",
      "center\n",
      "count\n",
      "encode\n",
      "endswith\n",
      "expandtabs\n",
      "find\n",
      "format\n",
      "format_map\n",
      "index\n",
      "isalnum\n",
      "isalpha\n",
      "isdecimal\n",
      "isdigit\n",
      "isidentifier\n",
      "islower\n",
      "isnumeric\n",
      "isprintable\n",
      "isspace\n",
      "istitle\n",
      "isupper\n",
      "join\n",
      "ljust\n",
      "lower\n",
      "lstrip\n",
      "maketrans\n",
      "partition\n",
      "replace\n",
      "rfind\n",
      "rindex\n",
      "rjust\n",
      "rpartition\n",
      "rsplit\n",
      "rstrip\n",
      "split\n",
      "splitlines\n",
      "startswith\n",
      "strip\n",
      "swapcase\n",
      "title\n",
      "translate\n",
      "upper\n",
      "zfill\n"
     ]
    }
   ],
   "source": [
    "# Python List Attribute\n",
    "\n",
    "for i in dir(a):\n",
    "    print(i) # It shows all the method and attributed of the string , Nows lets count how many method attribute do we have in Python String"
   ]
  },
  {
   "cell_type": "code",
   "execution_count": 42,
   "metadata": {
    "collapsed": false
   },
   "outputs": [
    {
     "name": "stdout",
     "output_type": "stream",
     "text": [
      "Here is the list of all the attributes in String \n",
      "__add__\n",
      "__class__\n",
      "__contains__\n",
      "__delattr__\n",
      "__dir__\n",
      "__doc__\n",
      "__eq__\n",
      "__format__\n",
      "__ge__\n",
      "__getattribute__\n",
      "__getitem__\n",
      "__getnewargs__\n",
      "__gt__\n",
      "__hash__\n",
      "__init__\n",
      "__init_subclass__\n",
      "__iter__\n",
      "__le__\n",
      "__len__\n",
      "__lt__\n",
      "__mod__\n",
      "__mul__\n",
      "__ne__\n",
      "__new__\n",
      "__reduce__\n",
      "__reduce_ex__\n",
      "__repr__\n",
      "__rmod__\n",
      "__rmul__\n",
      "__setattr__\n",
      "__sizeof__\n",
      "__str__\n",
      "__subclasshook__\n"
     ]
    }
   ],
   "source": [
    "# All the attributes in string\n",
    "print(\"Here is the list of all the attributes in String \")\n",
    "for i in dir(a):\n",
    "   if i[0:2] == \"__\":\n",
    "    print(i)\n",
    "\n",
    "    \n",
    "    \n"
   ]
  },
  {
   "cell_type": "code",
   "execution_count": 50,
   "metadata": {
    "collapsed": false
   },
   "outputs": [
    {
     "name": "stdout",
     "output_type": "stream",
     "text": [
      "Here is the list of all the methods in String:\n",
      "capitalize\n",
      "casefold\n",
      "center\n",
      "count\n",
      "encode\n",
      "endswith\n",
      "expandtabs\n",
      "find\n",
      "format\n",
      "format_map\n",
      "index\n",
      "isalnum\n",
      "isalpha\n",
      "isdecimal\n",
      "isdigit\n",
      "isidentifier\n",
      "islower\n",
      "isnumeric\n",
      "isprintable\n",
      "isspace\n",
      "istitle\n",
      "isupper\n",
      "join\n",
      "ljust\n",
      "lower\n",
      "lstrip\n",
      "maketrans\n",
      "partition\n",
      "replace\n",
      "rfind\n",
      "rindex\n",
      "rjust\n",
      "rpartition\n",
      "rsplit\n",
      "rstrip\n",
      "split\n",
      "splitlines\n",
      "startswith\n",
      "strip\n",
      "swapcase\n",
      "title\n",
      "translate\n",
      "upper\n",
      "zfill\n"
     ]
    }
   ],
   "source": [
    "print('Here is the list of all the methods in String:')\n",
    "for i in dir(a):\n",
    "    if i[0:2] != \"__\":\n",
    "        print(i)"
   ]
  },
  {
   "cell_type": "code",
   "execution_count": 53,
   "metadata": {
    "collapsed": false
   },
   "outputs": [
    {
     "name": "stdout",
     "output_type": "stream",
     "text": [
      "The total attribute in string we have in python are: 33 .!!! \n",
      "\n",
      "The total method in string we have in python are: 44 .!!! \n",
      "\n"
     ]
    }
   ],
   "source": [
    "# Now lets count how many attributes and method do we have in string ??\n",
    "attribute_count= []\n",
    "method_count  = []\n",
    "for i in dir(a):\n",
    "    if i[0:2] == \"__\":\n",
    "        attribute_count.append(i)\n",
    "    else:\n",
    "        method_count.append(i)\n",
    "\n",
    "print(\"The total attribute in string we have in python are: \"+ str(len(attribute_count))+ \" .!!! \\n\")\n",
    "\n",
    "print(\"The total method in string we have in python are: \"+ str(len(method_count))+ \" .!!! \\n\")"
   ]
  }
 ],
 "metadata": {
  "kernelspec": {
   "display_name": "Python 3",
   "language": "python",
   "name": "python3"
  },
  "language_info": {
   "codemirror_mode": {
    "name": "ipython",
    "version": 3
   },
   "file_extension": ".py",
   "mimetype": "text/x-python",
   "name": "python",
   "nbconvert_exporter": "python",
   "pygments_lexer": "ipython3",
   "version": "3.6.0"
  }
 },
 "nbformat": 4,
 "nbformat_minor": 2
}
