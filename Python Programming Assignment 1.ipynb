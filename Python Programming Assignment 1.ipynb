{
 "cells": [
  {
   "cell_type": "code",
   "execution_count": 12,
   "metadata": {
    "collapsed": false
   },
   "outputs": [
    {
     "name": "stdout",
     "output_type": "stream",
     "text": [
      "This program will find ou the radius of the circle: \n",
      "\n",
      "please enter the radius of the circle: 20.5\n",
      "The area of the circle with radius 20.5 is 1320.2531975\n"
     ]
    }
   ],
   "source": [
    "# Calculate the area of the circle!!!!\n",
    "print(\"This program will find ou the radius of the circle: \\n\")\n",
    "\n",
    "r = float(input(\"please enter the radius of the circle: \"))\n",
    "pie = 3.14159\n",
    "result = pie * r**2\n",
    "print(\"The area of the circle with radius \" + str(float(r)) + \" is \" + str(result))"
   ]
  },
  {
   "cell_type": "code",
   "execution_count": 27,
   "metadata": {
    "collapsed": false
   },
   "outputs": [
    {
     "name": "stdout",
     "output_type": "stream",
     "text": [
      "Please enter a number: 0\n",
      "Zero Entered\n"
     ]
    }
   ],
   "source": [
    "# Check number whether it is negative or positive \n",
    "try:\n",
    "    num = float(input(\"Please enter a number: \"))\n",
    "    if num > 0:\n",
    "        print(\"Positive Number Entered\")\n",
    "    elif num < 0:\n",
    "        print(\"Negative Number Entered\")\n",
    "    elif num == 0:\n",
    "        print(\"Zero Entered\")\n",
    "except:\n",
    "    print(\"You have entered a text! Please type number\")"
   ]
  },
  {
   "cell_type": "code",
   "execution_count": 31,
   "metadata": {
    "collapsed": false
   },
   "outputs": [
    {
     "name": "stdout",
     "output_type": "stream",
     "text": [
      "Please enter a first number: 7\n",
      "Please enter a second number: 4\n",
      "Numerator 7 is not Completely divisible by 4\n"
     ]
    }
   ],
   "source": [
    "# 3.\tDivisibility Check of two numbers\n",
    "num_1 = int(input(\"Please enter a first number: \"))\n",
    "num_2 = int(input(\"Please enter a second number: \"))\n",
    "if num_1 % num_2 == 0:\n",
    "    print(\"Numerator \" + str(num_1) + \" is Completely divisible by \" + str(num_2))\n",
    "else:\n",
    "    print(\"Numerator \" + str(num_1) + \" is not Completely divisible by \" + str(num_2))"
   ]
  },
  {
   "cell_type": "code",
   "execution_count": 1,
   "metadata": {
    "collapsed": false
   },
   "outputs": [
    {
     "name": "stdout",
     "output_type": "stream",
     "text": [
      "There are 4 in between 12/12/2018 and 16/12/2018\n"
     ]
    }
   ],
   "source": [
    "# 4 Days Calculator\n",
    "import datetime \n",
    "date_1 = datetime.datetime(2018,12,12)\n",
    "var_1 = date_1.strftime(\"%d/%m/%Y\")\n",
    "date_2 = datetime.datetime(2018,12,16)\n",
    "var_2 = date_2.strftime(\"%d/%m/%Y\")\n",
    "date = date_2 - date_1\n",
    "print(\"There are \" + str(date.days) + \" in between \" + var_1 +\" and \" + var_2)\n"
   ]
  },
  {
   "cell_type": "code",
   "execution_count": 9,
   "metadata": {
    "collapsed": false
   },
   "outputs": [
    {
     "name": "stdout",
     "output_type": "stream",
     "text": [
      "Please enter a radius: 1\n",
      "Volume of the Sphere with Radius 1 is 4.19\n"
     ]
    }
   ],
   "source": [
    "# 5 Volume of a SPhere\n",
    "radius = float(input(\"Please enter a radius: \"))\n",
    "volume = round((4/3)*(3.14159*(radius**2)),2)\n",
    "print(\"Volume of the Sphere with Radius \" + str(int(radius)) + \" is \" + str(volume))\n",
    "\n"
   ]
  },
  {
   "cell_type": "code",
   "execution_count": 13,
   "metadata": {
    "collapsed": false
   },
   "outputs": [
    {
     "name": "stdout",
     "output_type": "stream",
     "text": [
      "Enter a String: HI\n",
      "How many copy of string do you need! 4\n",
      "HIHIHIHI\n"
     ]
    }
   ],
   "source": [
    "# 6 Copying string n times\n",
    "var_1 = input(\"Enter a String: \")\n",
    "var_2 = int(input(\"How many copy of string do you need! \"))\n",
    "result = var_1 * var_2\n",
    "print(result)"
   ]
  },
  {
   "cell_type": "code",
   "execution_count": 22,
   "metadata": {
    "collapsed": false
   },
   "outputs": [
    {
     "name": "stdout",
     "output_type": "stream",
     "text": [
      "Please enter number: 1\n",
      "1 is Odd\n"
     ]
    }
   ],
   "source": [
    "# 7 Check number is even or odd!\n",
    "num_1 = int(input(\"Please enter number: \"))\n",
    "if num_1 % 2 == 0:\n",
    "    print(str(num_1) + \" is Even\")\n",
    "else:\n",
    "    print(str(num_1) + \" is Odd\")"
   ]
  },
  {
   "cell_type": "code",
   "execution_count": 33,
   "metadata": {
    "collapsed": false
   },
   "outputs": [
    {
     "name": "stdout",
     "output_type": "stream",
     "text": [
      "Enter Character! o\n",
      "Letter o is Vowel\n"
     ]
    }
   ],
   "source": [
    "# 8 Vowel Tester\n",
    "num_1 = str(input(\"Enter Character! \"))\n",
    "Converted = num_1.lower()\n",
    "try:\n",
    "    if Converted == \"a\" or Converted == \"e\" or Converted == \"i\" or Converted == \"o\" or Converted == \"u\":\n",
    "        print(\"Letter \" + Converted  + \" is Vowel\")\n",
    "    else:\n",
    "        print(\"Letter \" + Converted  + \" is not Vowel\")\n",
    "except:\n",
    "    print(\"Please enter a string not Integer\")"
   ]
  },
  {
   "cell_type": "code",
   "execution_count": 17,
   "metadata": {
    "collapsed": false
   },
   "outputs": [
    {
     "name": "stdout",
     "output_type": "stream",
     "text": [
      "Enter Magnitude of Triangle Base: 4\n",
      "Enter Magnitude of Triangle Height: 4\n",
      "Area of the Triangle with Height 4 and Base 4 is 8\n"
     ]
    }
   ],
   "source": [
    "# 9  Triangle Area\n",
    "num_1 = int(input(\"Enter Magnitude of Triangle Base: \"))\n",
    "num_2 = int(input(\"Enter Magnitude of Triangle Height: \"))\n",
    "\n",
    "Area = int((num_1 * num_2)/2)\n",
    "print(\"Area of the Triangle with Height \" + str(num_1) + \" and Base \" + str(num_2) + \" is \" + str(Area))"
   ]
  },
  {
   "cell_type": "code",
   "execution_count": 23,
   "metadata": {
    "collapsed": false
   },
   "outputs": [
    {
     "name": "stdout",
     "output_type": "stream",
     "text": [
      "Please enter principal Amount: 10000\n",
      "Please enter Rate of Interest in %: 0.1\n",
      "Please enter a number of years: 5\n",
      "After 5 year your principal amount 10000 over an interest rate of 0.1 % will be 16105.1\n"
     ]
    }
   ],
   "source": [
    "# 10 Calculate Interest Rate\n",
    "principal_amount = int(input(\"Please enter principal Amount: \"))\n",
    "int_Rate = float(input(\"Please enter Rate of Interest in %: \"))\n",
    "no_of_year = int(input(\"Please enter a number of years: \"))\n",
    "\n",
    "# formula of calculating Future Value is FV = PV(1+r)^n\n",
    "\n",
    "future_value = round(principal_amount * (1+ int_Rate)**no_of_year,2)\n",
    "print(\"After \" + str(no_of_year) + \" year your principal amount \" + str(principal_amount) + \" over an interest rate of \" + str (int_Rate) + \" % will be \" + str(future_value) )"
   ]
  },
  {
   "cell_type": "code",
   "execution_count": 31,
   "metadata": {
    "collapsed": false
   },
   "outputs": [
    {
     "name": "stdout",
     "output_type": "stream",
     "text": [
      "Enter Cor-ordinate for x1: 2\n",
      "Enter Cor-ordinate for x2: 4\n",
      "Enter Cor-ordinate for y1: 4\n",
      "Enter Cor-ordinate for y2: 4\n",
      "Distance between points (2, 4) and (4, 4) is 2\n"
     ]
    }
   ],
   "source": [
    "# 11 Euclidean distance\n",
    "import math\n",
    "a = int(input(\"Enter Cor-ordinate for x1: \"))\n",
    "b = int(input(\"Enter Cor-ordinate for x2: \"))\n",
    "c = int(input(\"Enter Cor-ordinate for y1: \"))\n",
    "d = int(input(\"Enter Cor-ordinate for y2: \"))\n",
    "\n",
    "dist = int(math.sqrt((b-a)**2 - (d-c)**2))\n",
    "\n",
    "print(\"Distance between points \" + str((a,b)) + \" and \" + str((c,d)) + \" is \" + str(dist))"
   ]
  },
  {
   "cell_type": "code",
   "execution_count": 34,
   "metadata": {
    "collapsed": false
   },
   "outputs": [
    {
     "name": "stdout",
     "output_type": "stream",
     "text": [
      "Enter a Height in feet: 5\n",
      "There are 152.4 Cm in 5 ft\n"
     ]
    }
   ],
   "source": [
    "# 12 Feet to Centimeter Converter\n",
    "num_1 = int(input(\"Enter a Height in feet: \"))\n",
    "result = num_1 * 30.48\n",
    "print(\"There are \" + str(result) + \" Cm in \" + str(num_1) + \" ft\")"
   ]
  },
  {
   "cell_type": "code",
   "execution_count": 44,
   "metadata": {
    "collapsed": false
   },
   "outputs": [
    {
     "name": "stdout",
     "output_type": "stream",
     "text": [
      "Enter Height in Cm: 180\n",
      "Enter weight in Kg: 75\n",
      "Your BMI is 23.15\n"
     ]
    }
   ],
   "source": [
    "# 13 BMI Calculator\n",
    "\n",
    "num_1 = int(input(\"Enter Height in Cm: \"))\n",
    "num_2 = int(input(\"Enter weight in Kg: \"))\n",
    "result = round((num_2 / ((num_1/100)**2) ),2)\n",
    "\n",
    "print(\"Your BMI is \" + str(result))"
   ]
  },
  {
   "cell_type": "code",
   "execution_count": 1,
   "metadata": {
    "collapsed": false
   },
   "outputs": [
    {
     "name": "stdout",
     "output_type": "stream",
     "text": [
      "Enter Value of n: 5\n",
      "Sum of n Positive integers till 5 is 15\n"
     ]
    }
   ],
   "source": [
    "# 14 Sum of n positive Numbers!!!\n",
    "b=[]\n",
    "a = int(input(\"Enter Value of n: \"))\n",
    "for i in range(a+1):\n",
    "    b.append(i)\n",
    "print(\"Sum of n Positive integers till \" + str(a) + \" is \" + str(sum(b)))"
   ]
  },
  {
   "cell_type": "code",
   "execution_count": 6,
   "metadata": {
    "collapsed": false
   },
   "outputs": [
    {
     "name": "stdout",
     "output_type": "stream",
     "text": [
      "Input a four digit numbers: 56\n",
      "The sum of digits in the number is 0 0 5 6 11\n"
     ]
    }
   ],
   "source": [
    "# 15 digit sum of a number\n",
    "num = int(input(\"Input a four digit numbers: \"))\n",
    "x  = num //1000\n",
    "x1 = (num - x*1000)//100\n",
    "x2 = (num - x*1000 - x1*100)//10\n",
    "x3 = num - x*1000 - x1*100 - x2*10\n",
    "print(\"The sum of digits in the number is \" + str(x) + \" \" + str(x1) + \" \" + str(x2) + \" \" + str(x3) , x+x1+x2+x3)"
   ]
  },
  {
   "cell_type": "code",
   "execution_count": 53,
   "metadata": {
    "collapsed": false
   },
   "outputs": [
    {
     "name": "stdout",
     "output_type": "stream",
     "text": [
      "Enter a decimal Number: 5\n",
      "Binary Representation of 5 is 101\n"
     ]
    }
   ],
   "source": [
    "# 16 Decimal to Binary Converter\n",
    "\n",
    "num = int(input(\"Enter a decimal Number: \"))\n",
    "result = bin(num)\n",
    "print(\"Binary Representation of \" + str(num) + \" is \" + str(result[2:]))"
   ]
  },
  {
   "cell_type": "code",
   "execution_count": 8,
   "metadata": {
    "collapsed": false
   },
   "outputs": [
    {
     "name": "stdout",
     "output_type": "stream",
     "text": [
      "Enter a Binary Number: 1001\n",
      "Decimal Representation of 1001 is 9\n"
     ]
    }
   ],
   "source": [
    "# 17 Binary to decimal\n",
    "num = str(input(\"Enter a Binary Number: \"))\n",
    "result = int(num,2)\n",
    "print(\"Decimal Representation of \" + str(num ) + \" is \" + str(result))"
   ]
  },
  {
   "cell_type": "code",
   "execution_count": 33,
   "metadata": {
    "collapsed": false
   },
   "outputs": [
    {
     "name": "stdout",
     "output_type": "stream",
     "text": [
      "Vowels: 9\n",
      "Consonants: 19\n"
     ]
    }
   ],
   "source": [
    "# 18 Vowel and Consonants Counter\n",
    "def countvowels(string):\n",
    "      num_vowels=0\n",
    "      not_vowels=0\n",
    "      for char in string:\n",
    "          if char in \"aeiouAEIOU\":\n",
    "            num_vowels = num_vowels+1\n",
    "      print(\"Vowels: \" + str(num_vowels))\n",
    "      for element in string:\n",
    "          if element not in \"aeiouAEIOU\":\n",
    "            not_vowels = not_vowels +1\n",
    "      print(\"Consonants: \" + str(not_vowels))\n",
    "            \n",
    "countvowels(\"QuickBrownFoxJumpsovertheDog\")"
   ]
  },
  {
   "cell_type": "code",
   "execution_count": 39,
   "metadata": {
    "collapsed": false
   },
   "outputs": [
    {
     "name": "stdout",
     "output_type": "stream",
     "text": [
      "Enter Text: Python 3.2\n",
      "Numbers= 2\n",
      "Alphabets= 6\n",
      "Special= 2\n"
     ]
    }
   ],
   "source": [
    "# 20.\tCount Alphabets, Numbers and Special Characters\n",
    "\n",
    "num = input(\"Enter Text: \")\n",
    "alphabets = numbers = special = 0\n",
    "\n",
    "for i in range(len(num)):\n",
    "    if (num[i].isalpha()):\n",
    "        alphabets = alphabets + 1\n",
    "    elif (num[i].isdigit()):\n",
    "        numbers = numbers + 1\n",
    "    else:\n",
    "        special = special + 1\n",
    "\n",
    "print(\"Numbers= \" + str(numbers))\n",
    "print(\"Alphabets= \" + str(alphabets))\n",
    "print(\"Special= \" + str(special))"
   ]
  },
  {
   "cell_type": "code",
   "execution_count": 56,
   "metadata": {
    "collapsed": false
   },
   "outputs": [
    {
     "name": "stdout",
     "output_type": "stream",
     "text": [
      "Program to print start pattern: \n",
      "\n",
      "Enter max star to be display on single line: 5\n",
      "* \n",
      "* * \n",
      "* * * \n",
      "* * * * \n",
      "* * * * * \n",
      "* * * * \n",
      "* * * \n",
      "* * \n",
      "* \n",
      "\n"
     ]
    }
   ],
   "source": [
    "# 21 Python Pattern\n",
    "\n",
    "print(\"Program to print start pattern: \\n\");\n",
    "rows = input(\"Enter max star to be display on single line: \")\n",
    "rows = int (rows)\n",
    "for i in range (0, rows):\n",
    "    for j in range(0, i + 1):\n",
    "        print(\"*\", end=' ')\n",
    "    print(\"\\r\")\n",
    "for i in range (rows, 0, -1):\n",
    "    for j in range(0, i -1):\n",
    "        print(\"*\", end=' ')\n",
    "    print(\"\\r\")"
   ]
  },
  {
   "cell_type": "code",
   "execution_count": 37,
   "metadata": {
    "collapsed": false
   },
   "outputs": [
    {
     "name": "stdout",
     "output_type": "stream",
     "text": [
      "1  \n",
      "1 2  \n",
      "1 2 3  \n",
      "1 2 3 4  \n",
      "1 2 3 4 5  \n",
      "1 2 3 4  \n",
      "1 2 3  \n",
      "1 2  \n",
      "1  \n",
      " \n",
      " \n",
      " \n"
     ]
    }
   ],
   "source": [
    "# 22 Python Pattern\n",
    "    \n",
    "for i in range(1,6):\n",
    "    for j in range(1,i+1):\n",
    "        print(j , end=\" \")\n",
    "    print(' ')\n",
    "for k in range(6,-1,-1):\n",
    "    for l in range(1,k-1):\n",
    "        print(l , end =\" \")\n",
    "    print(' ')"
   ]
  },
  {
   "cell_type": "code",
   "execution_count": 46,
   "metadata": {
    "collapsed": false
   },
   "outputs": [
    {
     "name": "stdout",
     "output_type": "stream",
     "text": [
      "1\n",
      "22\n",
      "333\n",
      "4444\n",
      "55555\n",
      "666666\n",
      "7777777\n",
      "88888888\n",
      "999999999\n"
     ]
    }
   ],
   "source": [
    "# 23 Python Pattern\n",
    "for i in range(1,10):\n",
    "    print(i*str(i))"
   ]
  }
 ],
 "metadata": {
  "kernelspec": {
   "display_name": "Python 3",
   "language": "python",
   "name": "python3"
  },
  "language_info": {
   "codemirror_mode": {
    "name": "ipython",
    "version": 3
   },
   "file_extension": ".py",
   "mimetype": "text/x-python",
   "name": "python",
   "nbconvert_exporter": "python",
   "pygments_lexer": "ipython3",
   "version": "3.6.0"
  }
 },
 "nbformat": 4,
 "nbformat_minor": 2
}
